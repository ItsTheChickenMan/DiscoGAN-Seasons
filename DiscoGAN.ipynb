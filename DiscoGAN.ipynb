{
  "nbformat": 4,
  "nbformat_minor": 0,
  "metadata": {
    "colab": {
      "provenance": [],
      "gpuType": "T4"
    },
    "kernelspec": {
      "name": "python3",
      "display_name": "Python 3"
    },
    "language_info": {
      "name": "python"
    },
    "accelerator": "GPU"
  },
  "cells": [
    {
      "cell_type": "markdown",
      "source": [
        "Clone the repository:"
      ],
      "metadata": {
        "id": "XEos4VnLutTF"
      }
    },
    {
      "cell_type": "code",
      "execution_count": null,
      "metadata": {
        "id": "u_CqQ2fd3OXf"
      },
      "outputs": [],
      "source": [
        "!git clone https://github.com/pxdal/DiscoGAN-Seasons"
      ]
    },
    {
      "cell_type": "code",
      "source": [
        "import os\n",
        "os.chdir('DiscoGAN-Seasons/')"
      ],
      "metadata": {
        "id": "3I9Arid-eDVJ"
      },
      "execution_count": 2,
      "outputs": []
    },
    {
      "cell_type": "markdown",
      "source": [
        "Install packages:"
      ],
      "metadata": {
        "id": "tGCTBtBNu0h8"
      }
    },
    {
      "cell_type": "code",
      "source": [
        "!pip install -r requirements.txt"
      ],
      "metadata": {
        "id": "iXEaHheYhS5f"
      },
      "execution_count": null,
      "outputs": []
    },
    {
      "cell_type": "markdown",
      "source": [
        "Download a CycleGAN dataset (or upload a zip to `datasets/`):"
      ],
      "metadata": {
        "id": "FXTgBp0FwsRz"
      }
    },
    {
      "cell_type": "code",
      "source": [
        "!bash ./datasets/download_cyclegan_dataset.sh summer2winter_yosemite"
      ],
      "metadata": {
        "id": "rpq-rzEjw40m"
      },
      "execution_count": null,
      "outputs": []
    },
    {
      "cell_type": "markdown",
      "source": [
        "Unzip dataset:"
      ],
      "metadata": {
        "id": "7ZhYhaY8w8g-"
      }
    },
    {
      "cell_type": "code",
      "source": [
        "!bash ./datasets/unpack_cyclegan_dataset.sh summer2winter_yosemite"
      ],
      "metadata": {
        "id": "zVpIitXNw-YK"
      },
      "execution_count": null,
      "outputs": []
    },
    {
      "cell_type": "markdown",
      "source": [
        "Upload model checkpoints to starting training from a checkpoint rather than from the start.\n",
        "\n",
        "**If training from scratch, skip this step.**\n",
        "\n",
        "This creates a directory for you to load your checkpoint models (there should be 4).  Change the directory name to match the iterations of training for your checkpoint, and then upload files to that directory."
      ],
      "metadata": {
        "id": "ddkFHCSQlJIy"
      }
    },
    {
      "cell_type": "code",
      "source": [
        "!mkdir -p ./models/summer2winter_yosemite/discogan/iter_2000_epoch_100/"
      ],
      "metadata": {
        "id": "OkW-qcW8lhEG"
      },
      "execution_count": 6,
      "outputs": []
    },
    {
      "cell_type": "markdown",
      "source": [
        "Start training:\n",
        "\n",
        "to train on the CPU, use option `--cuda=False`\\\n",
        "change how often images are saved with `--image_save_interval=iters`\\\n",
        "change how often checkpoints are saved with `--model_save_interval=iters`\\\n",
        "start training from a checkpoint using the following commands:\n",
        "* `--checkpoint_dir=dir` - specify the parent directory of the checkpoint (don't include the model dir)\n",
        "* `--checkpoint_iters=iters` specifiy the amount of iterations the training completed when the checkpoint was saved\n",
        "* `--checkpoint_epoch=epoch` specify the epochs of training completed when the checkpoint was saved"
      ],
      "metadata": {
        "id": "T7N5JHCRcEZe"
      }
    },
    {
      "cell_type": "code",
      "source": [
        "!python ./discogan/image_translation.py --task_name=summer2winter_yosemite --model_save_interval=2000 --checkpoint_dir=./iter_2000/ --checkpoint_iters=2000"
      ],
      "metadata": {
        "id": "pehADcTYc30O"
      },
      "execution_count": null,
      "outputs": []
    },
    {
      "cell_type": "markdown",
      "source": [
        "View results:"
      ],
      "metadata": {
        "id": "H0Rmp9FciIqn"
      }
    },
    {
      "cell_type": "code",
      "source": [
        "# @title Display Results\n",
        "\n",
        "from google.colab.patches import cv2_imshow\n",
        "import random\n",
        "import cv2\n",
        "\n",
        "# size of output\n",
        "image_size = 64 # @param {type:\"number\"}\n",
        "\n",
        "# specify which results you want\n",
        "results_dir=\"iter_2000\" # @param {type:\"string\"}\n",
        "\n",
        "# specify a desired image to show (or leave as \"random\" to pick a random one)\n",
        "image_num=\"158\" # @param {type:\"string\"}\n",
        "# image=\"120\"\n",
        "\n",
        "# specify which domain to view\n",
        "domain = \"A\" # @param {type:\"string\"}\n",
        "\n",
        "# image extension\n",
        "ext = \".jpg\" # @param {type:\"string\"}\n",
        "\n",
        "\n",
        "results_dir = os.path.join(\"./results/summer2winter_yosemite/discogan/\", results_dir)\n",
        "\n",
        "results = os.listdir(results_dir)\n",
        "num_results = len(results) // 6\n",
        "\n",
        "if image_num == \"random\":\n",
        "  image_num = str(random.randint(0, num_results - 1))\n",
        "\n",
        "result_suffixes = {\n",
        "  \"A\": [\".A\", \".AB\", \".ABA\"],\n",
        "  \"B\": [\".B\", \".BA\", \".BAB\"]\n",
        "}\n",
        "\n",
        "for suffix in result_suffixes[domain]:\n",
        "  image_name = image_num + suffix + ext\n",
        "  image_path = os.path.join(results_dir, image_name)\n",
        "\n",
        "  image = cv2.imread(image_path)\n",
        "\n",
        "  image = cv2.resize(image, (image_size, image_size))\n",
        "\n",
        "  print(image_name + \":\")\n",
        "\n",
        "  cv2_imshow(image)\n",
        "\n",
        "cv2.waitKey(0)\n",
        "\n",
        "cv2.destroyAllWindows()"
      ],
      "metadata": {
        "cellView": "form",
        "id": "XfJ-HQk9iMAR"
      },
      "execution_count": null,
      "outputs": []
    }
  ]
}